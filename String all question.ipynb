{
 "cells": [
  {
   "cell_type": "markdown",
   "id": "ed064bb6",
   "metadata": {},
   "source": [
    "### Q-78 Check if the string is palindrome or not"
   ]
  },
  {
   "cell_type": "code",
   "execution_count": 1,
   "id": "435361ed",
   "metadata": {},
   "outputs": [
    {
     "name": "stdout",
     "output_type": "stream",
     "text": [
      "string is palindrome aba\n"
     ]
    }
   ],
   "source": [
    "stra1=\"aba\"\n",
    "stra2=''\n",
    "for i in range(-1,-len(stra1)-1,-1):\n",
    "    stra2+=(stra1[i])\n",
    "if stra2 == stra1:\n",
    "    print(\"string is palindrome\",stra1)\n",
    "else:\n",
    "    print(\"string is not palindrome\")"
   ]
  },
  {
   "cell_type": "markdown",
   "id": "de25c3fa",
   "metadata": {},
   "source": [
    "## Q-79 print the given string in reverse order"
   ]
  },
  {
   "cell_type": "code",
   "execution_count": 2,
   "id": "9d39e160",
   "metadata": {},
   "outputs": [
    {
     "name": "stdout",
     "output_type": "stream",
     "text": [
      "Enter your name f\n",
      "reverse-string f\n"
     ]
    }
   ],
   "source": [
    "num=str(input(\"Enter your name \"))\n",
    "reverse_string=\"\"\n",
    "for i in range(-1,-len(num)-1,-1):\n",
    "    reverse_string+=num[i]\n",
    "print(\"reverse-string\",reverse_string)"
   ]
  },
  {
   "cell_type": "markdown",
   "id": "85c277b5",
   "metadata": {},
   "source": [
    "## Q-80 Remove all character from string excepts alpphabets"
   ]
  },
  {
   "cell_type": "code",
   "execution_count": 3,
   "id": "dffa3a1f",
   "metadata": {},
   "outputs": [
    {
     "name": "stdout",
     "output_type": "stream",
     "text": [
      " aGeeksforGeeksz\n"
     ]
    }
   ],
   "source": [
    "str1='$aGee*k;s..fo, r’Ge^eksz'\n",
    "newstring=\" \"\n",
    "for i in str1:\n",
    "    if ord(i)>ord(\"a\")-1 and ord(i)<ord(\"z\")+1:\n",
    "        newstring+=i\n",
    "    elif ord(i)>ord(\"A\")-1 and ord(i)<ord(\"Z\"):\n",
    "        newstring+=i\n",
    "print(newstring)"
   ]
  },
  {
   "cell_type": "markdown",
   "id": "5264c70e",
   "metadata": {},
   "source": [
    "## Q-81 Remove spaces from a string"
   ]
  },
  {
   "cell_type": "code",
   "execution_count": 4,
   "id": "1cc7b03f",
   "metadata": {},
   "outputs": [
    {
     "name": "stdout",
     "output_type": "stream",
     "text": [
      "vijayyadav\n"
     ]
    }
   ],
   "source": [
    "s='v i j a y y a d a v'\n",
    "news=\"\"\n",
    "for i in s:\n",
    "    if i !=\" \":\n",
    "        news+=i\n",
    "print(news)"
   ]
  },
  {
   "cell_type": "markdown",
   "id": "b8c43f7d",
   "metadata": {},
   "source": [
    "## Q-82 Remove bracket from the from an algebraic expression "
   ]
  },
  {
   "cell_type": "code",
   "execution_count": 5,
   "id": "3117803f",
   "metadata": {},
   "outputs": [
    {
     "data": {
      "text/plain": [
       "'a-b+c+d'"
      ]
     },
     "execution_count": 5,
     "metadata": {},
     "output_type": "execute_result"
    }
   ],
   "source": [
    "str1=\"(a-(b+c)+d)\"\n",
    "str2=\"\"\n",
    "for i in str1:\n",
    "    if i !=(\"(\") and i !=(\")\"):\n",
    "        str2+=i\n",
    "str2"
   ]
  },
  {
   "cell_type": "markdown",
   "id": "44f5fe38",
   "metadata": {},
   "source": [
    "## Q-83 Count the sum of numbers in a string "
   ]
  },
  {
   "cell_type": "code",
   "execution_count": 11,
   "id": "f70b63eb",
   "metadata": {},
   "outputs": [
    {
     "name": "stdout",
     "output_type": "stream",
     "text": [
      "v\n",
      "i\n",
      "j\n",
      "a\n",
      "y\n",
      "y\n",
      "a\n",
      "d\n",
      "a\n",
      "v\n"
     ]
    },
    {
     "data": {
      "text/plain": [
       "'13266'"
      ]
     },
     "execution_count": 11,
     "metadata": {},
     "output_type": "execute_result"
    }
   ],
   "source": [
    "str1=\"vijay132yadav66\"\n",
    "str2=\"\"\n",
    "for i in range(len(str1)):\n",
    "    if str1[i]<='0' or str1[i]<=\"9\":\n",
    "        str2+=str1[i]\n",
    "    else:\n",
    "        print(str1[i])\n",
    "str2"
   ]
  },
  {
   "cell_type": "code",
   "execution_count": 7,
   "id": "e29e92a8",
   "metadata": {},
   "outputs": [],
   "source": [
    "str3=\"vijay132yadav66\"\n",
    "number"
   ]
  },
  {
   "cell_type": "code",
   "execution_count": 34,
   "id": "f0cbc472-260c-4092-a41a-70ce3790c5b8",
   "metadata": {},
   "outputs": [
    {
     "name": "stdout",
     "output_type": "stream",
     "text": [
      "198\n",
      "vijayyadav \n"
     ]
    }
   ],
   "source": [
    "str=\"vijay132yadav66 \"\n",
    "number=[]\n",
    "num=\"\"\n",
    "chars=\"\"\n",
    "for char in str:\n",
    "    if char.isdigit():\n",
    "        num +=char\n",
    "    else:\n",
    "        chars += char\n",
    "        if num !=\"\":\n",
    "            number.append(int(num))\n",
    "            num=\"\"\n",
    "result=sum(number )\n",
    "print(result)\n",
    "print(chars)\n",
    "    "
   ]
  },
  {
   "cell_type": "markdown",
   "id": "30954157",
   "metadata": {},
   "source": [
    "## Q-84 Capitalize the  first and last charater of each world in a string"
   ]
  },
  {
   "cell_type": "code",
   "execution_count": 21,
   "id": "14c96aea",
   "metadata": {},
   "outputs": [
    {
     "data": {
      "text/plain": [
       "' VijaY'"
      ]
     },
     "execution_count": 21,
     "metadata": {},
     "output_type": "execute_result"
    }
   ],
   "source": [
    "s=\"vijay\"\n",
    "s1=\" \"\n",
    "for i in range(len(s)):\n",
    "    #print(i)\n",
    "    if i== 0 or i==len(s)-1:\n",
    "        s1+=(chr(ord(s[i])-32))\n",
    "    else:\n",
    "        s1+=s[i]\n",
    "s1"
   ]
  },
  {
   "cell_type": "markdown",
   "id": "860bf814",
   "metadata": {},
   "source": [
    "## Q-85 Calculate the frequency of characte in a string"
   ]
  },
  {
   "cell_type": "code",
   "execution_count": 11,
   "id": "25a8a4ed",
   "metadata": {},
   "outputs": [
    {
     "name": "stdout",
     "output_type": "stream",
     "text": [
      "{'G': 2, 'e': 4, 'k': 2, 's': 2, 'f': 1, 'o': 1, 'r': 1}\n"
     ]
    }
   ],
   "source": [
    "str1=\"GeeksforGeeks\"\n",
    "d={}\n",
    "for i in str1:\n",
    "    if i in d:\n",
    "        d[i]+=1\n",
    "    else:\n",
    "        d[i]=1\n",
    "print(d)"
   ]
  },
  {
   "cell_type": "markdown",
   "id": "790fb379",
   "metadata": {},
   "source": [
    "## Q-86 Find the non-repeating characters in a string"
   ]
  },
  {
   "cell_type": "code",
   "execution_count": 23,
   "id": "1210bbb8",
   "metadata": {},
   "outputs": [
    {
     "name": "stdout",
     "output_type": "stream",
     "text": [
      "{'v': 2, 'i': 1, 'j': 1, 'a': 3, 'y': 2, 'd': 1}\n"
     ]
    },
    {
     "data": {
      "text/plain": [
       "'ijd'"
      ]
     },
     "execution_count": 23,
     "metadata": {},
     "output_type": "execute_result"
    }
   ],
   "source": [
    "str2=\"vijayyadav\"\n",
    "d1={}\n",
    "for i in str2:\n",
    "    if i in d1:\n",
    "        d1[i]+=1\n",
    "    else:\n",
    "        d1[i]=1\n",
    "print(d1)\n",
    "str5=\"\"\n",
    "for i in d1:\n",
    "    if d1[i]==1:\n",
    "        str5+=i\n",
    "str5"
   ]
  },
  {
   "cell_type": "markdown",
   "id": "df21ef2d",
   "metadata": {},
   "source": [
    "## Q-87 Check the two string are anagram or not"
   ]
  },
  {
   "cell_type": "code",
   "execution_count": 73,
   "id": "48ecbb68",
   "metadata": {},
   "outputs": [
    {
     "name": "stdout",
     "output_type": "stream",
     "text": [
      "Enter your string : ttu\n",
      "Enter your second string : ytt\n",
      "Given string is not Anagram string ytt ttu\n"
     ]
    }
   ],
   "source": [
    "str1=str(input(\"Enter your string : \")) \n",
    "str2 =str(input(\"Enter your second string : \"))\n",
    "str3=''\n",
    "if len(str1) == len(str2):\n",
    "    for i in range(len(str1)):\n",
    "        if str1[i] in str2:\n",
    "            str3+=str2[i]\n",
    "if len(str3) == len(str1):\n",
    "    print(\"Given strin is Anagram string\",str3)\n",
    "else:\n",
    "    print(\"Given string is not Anagram string\",str2,str1)"
   ]
  },
  {
   "cell_type": "code",
   "execution_count": 74,
   "id": "627fdddc",
   "metadata": {},
   "outputs": [
    {
     "name": "stdout",
     "output_type": "stream",
     "text": [
      "enter any string1: er\n",
      "Enter any string2: er\n",
      "anagram\n"
     ]
    }
   ],
   "source": [
    "def check(str1,str2):\n",
    "    if len(str1)!= len(str2):\n",
    "        return 0\n",
    "    for i in str1:\n",
    "        if i in dict1:\n",
    "            dict1[i] +=1\n",
    "        else:\n",
    "            dict1[i] = 1\n",
    "    for i in str2:\n",
    "        if i in dict2:\n",
    "            dict2[i] +=1\n",
    "        else:\n",
    "            dict2[i] = 1\n",
    "    if dict1 == dict2:\n",
    "        return 1\n",
    "    else:\n",
    "        return 0\n",
    "    \n",
    "str1 = input(\"enter any string1: \")\n",
    "str2 = input(\"Enter any string2: \")\n",
    "dict1 = {}\n",
    "dict2 = {}\n",
    "if check(str1, str2):\n",
    "    print(\"anagram\")\n",
    "else:\n",
    "    print(\"Not\")\n",
    "\n",
    "\n"
   ]
  },
  {
   "cell_type": "markdown",
   "id": "5406e631-e6e5-423a-ab81-720e60641348",
   "metadata": {},
   "source": [
    "## Q-88 Replacing a particular word with another wordin a string (input=\"geeksforgeeks\",sub1=\"for\", sub2\" \",that output=\"geeksthatgeeks"
   ]
  },
  {
   "cell_type": "code",
   "execution_count": 59,
   "id": "b4b919d7",
   "metadata": {},
   "outputs": [
    {
     "data": {
      "text/plain": [
       "'geeksthatgeeks'"
      ]
     },
     "execution_count": 59,
     "metadata": {},
     "output_type": "execute_result"
    }
   ],
   "source": [
    "str1=\"geeksforgeeks\"\n",
    "str2=\"for\"\n",
    "str3=\"that\"\n",
    "d=\"\"\n",
    "s = ''\n",
    "for i in str1:\n",
    "    if i in \"for\":\n",
    "        d+=i\n",
    "    elif d == str2:\n",
    "        s+=str3\n",
    "        d+=\"a\"\n",
    "        s+=i;\n",
    "    else:\n",
    "        s+=i\n",
    "s"
   ]
  },
  {
   "cell_type": "code",
   "execution_count": 63,
   "id": "d9ac7c2a-d4db-4b01-8694-9dd567671871",
   "metadata": {},
   "outputs": [
    {
     "data": {
      "text/plain": [
       "'The quicekbrowncat jumps over the lazeydog'"
      ]
     },
     "execution_count": 63,
     "metadata": {},
     "output_type": "execute_result"
    }
   ],
   "source": [
    "str1=\"The quicekbrownfox jumps over the lazeydog\"\n",
    "str1.replace(\"fox\",\"cat\")\n"
   ]
  },
  {
   "cell_type": "markdown",
   "id": "037a3529",
   "metadata": {},
   "source": [
    "## Q-89 Print all parmutation of a given string in lexicographically sorted order"
   ]
  },
  {
   "cell_type": "code",
   "execution_count": 68,
   "id": "cdc456f3-96dd-4ce6-8bdf-88c864463853",
   "metadata": {},
   "outputs": [
    {
     "name": "stdout",
     "output_type": "stream",
     "text": [
      "ABC"
     ]
    }
   ],
   "source": [
    "st=\"ABC\"\n",
    "for i in range(len(st)):\n",
    "    print(st[i],end=\"\")\n",
    "for i in range(1,len())"
   ]
  },
  {
   "cell_type": "code",
   "execution_count": null,
   "id": "1a41bee5-b307-4b6f-a0c7-ce842f5476dc",
   "metadata": {},
   "outputs": [],
   "source": []
  },
  {
   "cell_type": "code",
   "execution_count": null,
   "id": "9665c99c-1a7a-4d6b-ba40-a279d5e03dd1",
   "metadata": {},
   "outputs": [],
   "source": []
  },
  {
   "cell_type": "code",
   "execution_count": null,
   "id": "f538c5e9-7086-4810-b68b-d6d0c195667c",
   "metadata": {},
   "outputs": [],
   "source": []
  }
 ],
 "metadata": {
  "kernelspec": {
   "display_name": "Python 3 (ipykernel)",
   "language": "python",
   "name": "python3"
  },
  "language_info": {
   "codemirror_mode": {
    "name": "ipython",
    "version": 3
   },
   "file_extension": ".py",
   "mimetype": "text/x-python",
   "name": "python",
   "nbconvert_exporter": "python",
   "pygments_lexer": "ipython3",
   "version": "3.11.7"
  }
 },
 "nbformat": 4,
 "nbformat_minor": 5
}
